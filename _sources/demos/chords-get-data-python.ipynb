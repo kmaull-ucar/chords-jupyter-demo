{
 "cells": [
  {
   "cell_type": "markdown",
   "id": "5a6cf1c7-2fae-4ec7-8197-4e15fb29397f",
   "metadata": {},
   "source": [
    "# CHORDS data manipulation in Python"
   ]
  },
  {
   "cell_type": "code",
   "execution_count": 1,
   "id": "440f44bf-7f6f-48ff-b0fc-2a5785fdaaf8",
   "metadata": {},
   "outputs": [],
   "source": [
    "import requests"
   ]
  },
  {
   "cell_type": "code",
   "execution_count": null,
   "id": "cebfba2c-7baf-4d66-a37a-7f948616b50e",
   "metadata": {},
   "outputs": [],
   "source": []
  }
 ],
 "metadata": {
  "kernelspec": {
   "display_name": "Python 3 (ipykernel)",
   "language": "python",
   "name": "python3"
  },
  "language_info": {
   "codemirror_mode": {
    "name": "ipython",
    "version": 3
   },
   "file_extension": ".py",
   "mimetype": "text/x-python",
   "name": "python",
   "nbconvert_exporter": "python",
   "pygments_lexer": "ipython3",
   "version": "3.8.11"
  }
 },
 "nbformat": 4,
 "nbformat_minor": 5
}
