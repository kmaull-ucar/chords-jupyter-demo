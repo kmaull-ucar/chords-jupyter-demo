{
 "cells": [
  {
   "cell_type": "markdown",
   "id": "5a6cf1c7-2fae-4ec7-8197-4e15fb29397f",
   "metadata": {},
   "source": [
    "# CHORDS data manipulation in Python"
   ]
  },
  {
   "cell_type": "code",
   "execution_count": 1,
   "id": "440f44bf-7f6f-48ff-b0fc-2a5785fdaaf8",
   "metadata": {},
   "outputs": [],
   "source": [
    "import requests"
   ]
  },
  {
   "cell_type": "markdown",
   "id": "7db84818-f851-4829-863f-742b47f8c77a",
   "metadata": {},
   "source": [
    "# 1. connect to CHORDS for data"
   ]
  },
  {
   "cell_type": "markdown",
   "id": "4c43d55e-d130-4565-bb1f-6915e4082e04",
   "metadata": {},
   "source": [
    "Opening the api key is critical for data retrieval.  Put your API key and email in a file called `api-key.txt` in a **single line** that looks like this:\n",
    "\n",
    "```csv\n",
    "490rieojfdn8e,youremail@yourdomain.com\n",
    "```\n",
    "\n",
    "Notice the comma seperates the key from the email address."
   ]
  },
  {
   "cell_type": "code",
   "execution_count": 2,
   "id": "6352c77b-7017-43c5-a735-3f46ce574d79",
   "metadata": {},
   "outputs": [],
   "source": [
    "with open(\"api-key.txt\") as f:\n",
    "    api_key, email = f.read().split(\",\")"
   ]
  },
  {
   "cell_type": "markdown",
   "id": "3642d685-078c-4e01-82e9-c7316d66e086",
   "metadata": {},
   "source": [
    "Next we will use the [Python Requests](https://docs.python-requests.org/en/latest/index.html) library to perform an HTTP/GET and store the response in a file:"
   ]
  },
  {
   "cell_type": "code",
   "execution_count": 3,
   "id": "1f6bf255-6869-4812-aae1-e4d1eafe5d59",
   "metadata": {},
   "outputs": [
    {
     "name": "stdout",
     "output_type": "stream",
     "text": [
      "[info] payload saved.\n"
     ]
    }
   ],
   "source": [
    "r = requests.get(f\"http://3d.chordsrt.com/api/v1/data/7.csv?start=2023-03-20T00:00&end=2023-03-30T00:00&api_key={api_key}&email={email}\")\n",
    "if r.status_code == 200:\n",
    "    with open(\"sample_data.csv\", \"w\") as fo:\n",
    "        fo.write(r.text)\n",
    "    print(\"[info] payload saved.\")\n",
    "else:\n",
    "    print(r.json())"
   ]
  },
  {
   "cell_type": "markdown",
   "id": "5f742148-9067-4bcc-8312-3e2d12fdf9eb",
   "metadata": {},
   "source": [
    "**NOTE:** Details about the the CHORDS API calls can be found here:\n",
    "\n",
    "* [http://3d.chordsrt.com/about/data_urls?instrument_id=7](http://3d.chordsrt.com/about/data_urls?instrument_id=7)"
   ]
  },
  {
   "cell_type": "markdown",
   "id": "e952f796-3762-4228-a07e-6c89cd6e8989",
   "metadata": {},
   "source": [
    "# 2. review the data\n",
    "\n",
    "Since the output was a CSV file, we can open it right here."
   ]
  },
  {
   "cell_type": "markdown",
   "id": "d318c25d-2287-489c-956b-f96138fc5e67",
   "metadata": {},
   "source": [
    "# 3. open the data in Python\n",
    "\n",
    "We will use the [Pandas library](https://pandas.pydata.org/) to load the data into a [DataFrame]()."
   ]
  },
  {
   "cell_type": "code",
   "execution_count": 4,
   "id": "0f4b1789-854d-4e7f-9f02-92043f277a96",
   "metadata": {},
   "outputs": [],
   "source": [
    "import pandas as pd\n",
    "df = pd.read_csv(\"sample_data.csv\", comment=\"#\")"
   ]
  },
  {
   "cell_type": "markdown",
   "id": "764d6ff8-e9ab-43ec-90c4-9a2c4916301b",
   "metadata": {},
   "source": [
    "The [`head()` function](https://pandas.pydata.org/pandas-docs/stable/reference/api/pandas.DataFrame.head.html)  returns the top 5 rows of the DataFrame"
   ]
  },
  {
   "cell_type": "code",
   "execution_count": 5,
   "id": "d555d3e0-a729-47d8-a559-c396852ecdee",
   "metadata": {},
   "outputs": [
    {
     "data": {
      "text/html": [
       "<div>\n",
       "<style scoped>\n",
       "    .dataframe tbody tr th:only-of-type {\n",
       "        vertical-align: middle;\n",
       "    }\n",
       "\n",
       "    .dataframe tbody tr th {\n",
       "        vertical-align: top;\n",
       "    }\n",
       "\n",
       "    .dataframe thead th {\n",
       "        text-align: right;\n",
       "    }\n",
       "</style>\n",
       "<table border=\"1\" class=\"dataframe\">\n",
       "  <thead>\n",
       "    <tr style=\"text-align: right;\">\n",
       "      <th></th>\n",
       "      <th>Time</th>\n",
       "      <th>HTU21D_T</th>\n",
       "      <th>HTU21D_RH</th>\n",
       "      <th>BMP180_SLP</th>\n",
       "      <th>BMP180_SP</th>\n",
       "      <th>BMP180_T</th>\n",
       "      <th>MCP9808</th>\n",
       "      <th>windspeed</th>\n",
       "      <th>winddirection</th>\n",
       "      <th>precipitation</th>\n",
       "      <th>SI1145_VIS</th>\n",
       "      <th>SI1145_IR</th>\n",
       "      <th>SI1145_UV</th>\n",
       "    </tr>\n",
       "  </thead>\n",
       "  <tbody>\n",
       "    <tr>\n",
       "      <th>0</th>\n",
       "      <td>2023-03-20T00:00:01Z</td>\n",
       "      <td>NaN</td>\n",
       "      <td>NaN</td>\n",
       "      <td>NaN</td>\n",
       "      <td>NaN</td>\n",
       "      <td>NaN</td>\n",
       "      <td>NaN</td>\n",
       "      <td>7.92</td>\n",
       "      <td>NaN</td>\n",
       "      <td>NaN</td>\n",
       "      <td>NaN</td>\n",
       "      <td>NaN</td>\n",
       "      <td>NaN</td>\n",
       "    </tr>\n",
       "    <tr>\n",
       "      <th>1</th>\n",
       "      <td>2023-03-20T00:00:04Z</td>\n",
       "      <td>NaN</td>\n",
       "      <td>NaN</td>\n",
       "      <td>1008.96</td>\n",
       "      <td>819.8</td>\n",
       "      <td>9.4</td>\n",
       "      <td>9.7</td>\n",
       "      <td>NaN</td>\n",
       "      <td>NaN</td>\n",
       "      <td>NaN</td>\n",
       "      <td>384.0</td>\n",
       "      <td>1807.0</td>\n",
       "      <td>68.0</td>\n",
       "    </tr>\n",
       "    <tr>\n",
       "      <th>2</th>\n",
       "      <td>2023-03-20T00:00:05Z</td>\n",
       "      <td>9.6</td>\n",
       "      <td>17.2</td>\n",
       "      <td>NaN</td>\n",
       "      <td>NaN</td>\n",
       "      <td>NaN</td>\n",
       "      <td>NaN</td>\n",
       "      <td>NaN</td>\n",
       "      <td>NaN</td>\n",
       "      <td>NaN</td>\n",
       "      <td>NaN</td>\n",
       "      <td>NaN</td>\n",
       "      <td>NaN</td>\n",
       "    </tr>\n",
       "    <tr>\n",
       "      <th>3</th>\n",
       "      <td>2023-03-20T00:01:02Z</td>\n",
       "      <td>NaN</td>\n",
       "      <td>NaN</td>\n",
       "      <td>NaN</td>\n",
       "      <td>NaN</td>\n",
       "      <td>NaN</td>\n",
       "      <td>NaN</td>\n",
       "      <td>NaN</td>\n",
       "      <td>232.7</td>\n",
       "      <td>NaN</td>\n",
       "      <td>NaN</td>\n",
       "      <td>NaN</td>\n",
       "      <td>NaN</td>\n",
       "    </tr>\n",
       "    <tr>\n",
       "      <th>4</th>\n",
       "      <td>2023-03-20T00:01:09Z</td>\n",
       "      <td>NaN</td>\n",
       "      <td>NaN</td>\n",
       "      <td>NaN</td>\n",
       "      <td>NaN</td>\n",
       "      <td>NaN</td>\n",
       "      <td>NaN</td>\n",
       "      <td>NaN</td>\n",
       "      <td>NaN</td>\n",
       "      <td>0.0</td>\n",
       "      <td>NaN</td>\n",
       "      <td>NaN</td>\n",
       "      <td>NaN</td>\n",
       "    </tr>\n",
       "  </tbody>\n",
       "</table>\n",
       "</div>"
      ],
      "text/plain": [
       "                   Time  HTU21D_T  HTU21D_RH  BMP180_SLP  BMP180_SP  BMP180_T  \\\n",
       "0  2023-03-20T00:00:01Z       NaN        NaN         NaN        NaN       NaN   \n",
       "1  2023-03-20T00:00:04Z       NaN        NaN     1008.96      819.8       9.4   \n",
       "2  2023-03-20T00:00:05Z       9.6       17.2         NaN        NaN       NaN   \n",
       "3  2023-03-20T00:01:02Z       NaN        NaN         NaN        NaN       NaN   \n",
       "4  2023-03-20T00:01:09Z       NaN        NaN         NaN        NaN       NaN   \n",
       "\n",
       "   MCP9808  windspeed  winddirection  precipitation  SI1145_VIS  SI1145_IR  \\\n",
       "0      NaN       7.92            NaN            NaN         NaN        NaN   \n",
       "1      9.7        NaN            NaN            NaN       384.0     1807.0   \n",
       "2      NaN        NaN            NaN            NaN         NaN        NaN   \n",
       "3      NaN        NaN          232.7            NaN         NaN        NaN   \n",
       "4      NaN        NaN            NaN            0.0         NaN        NaN   \n",
       "\n",
       "   SI1145_UV  \n",
       "0        NaN  \n",
       "1       68.0  \n",
       "2        NaN  \n",
       "3        NaN  \n",
       "4        NaN  "
      ]
     },
     "execution_count": 5,
     "metadata": {},
     "output_type": "execute_result"
    }
   ],
   "source": [
    "df.head()"
   ]
  },
  {
   "cell_type": "markdown",
   "id": "257172f4-5fcb-46e1-bf22-186660e08d18",
   "metadata": {},
   "source": [
    "To take advantage of Pandas' ability to work with [time series data](https://pandas.pydata.org/pandas-docs/stable/user_guide/timeseries.html), we will set the index of our date to the `Time` column, which will greatly improve our ability to plot, select and manipulate the data based on times/dates."
   ]
  },
  {
   "cell_type": "code",
   "execution_count": 6,
   "id": "84b48084-f62f-4d2f-b19b-463542555661",
   "metadata": {},
   "outputs": [],
   "source": [
    "df = df.set_index('Time')"
   ]
  },
  {
   "cell_type": "code",
   "execution_count": 7,
   "id": "7c01fb59-cd89-42e9-9512-53d9badf07ac",
   "metadata": {},
   "outputs": [
    {
     "data": {
      "text/html": [
       "<div>\n",
       "<style scoped>\n",
       "    .dataframe tbody tr th:only-of-type {\n",
       "        vertical-align: middle;\n",
       "    }\n",
       "\n",
       "    .dataframe tbody tr th {\n",
       "        vertical-align: top;\n",
       "    }\n",
       "\n",
       "    .dataframe thead th {\n",
       "        text-align: right;\n",
       "    }\n",
       "</style>\n",
       "<table border=\"1\" class=\"dataframe\">\n",
       "  <thead>\n",
       "    <tr style=\"text-align: right;\">\n",
       "      <th></th>\n",
       "      <th>HTU21D_T</th>\n",
       "      <th>HTU21D_RH</th>\n",
       "      <th>BMP180_SLP</th>\n",
       "      <th>BMP180_SP</th>\n",
       "      <th>BMP180_T</th>\n",
       "      <th>MCP9808</th>\n",
       "      <th>windspeed</th>\n",
       "      <th>winddirection</th>\n",
       "      <th>precipitation</th>\n",
       "      <th>SI1145_VIS</th>\n",
       "      <th>SI1145_IR</th>\n",
       "      <th>SI1145_UV</th>\n",
       "    </tr>\n",
       "    <tr>\n",
       "      <th>Time</th>\n",
       "      <th></th>\n",
       "      <th></th>\n",
       "      <th></th>\n",
       "      <th></th>\n",
       "      <th></th>\n",
       "      <th></th>\n",
       "      <th></th>\n",
       "      <th></th>\n",
       "      <th></th>\n",
       "      <th></th>\n",
       "      <th></th>\n",
       "      <th></th>\n",
       "    </tr>\n",
       "  </thead>\n",
       "  <tbody>\n",
       "    <tr>\n",
       "      <th>2023-03-20T00:00:01Z</th>\n",
       "      <td>NaN</td>\n",
       "      <td>NaN</td>\n",
       "      <td>NaN</td>\n",
       "      <td>NaN</td>\n",
       "      <td>NaN</td>\n",
       "      <td>NaN</td>\n",
       "      <td>7.92</td>\n",
       "      <td>NaN</td>\n",
       "      <td>NaN</td>\n",
       "      <td>NaN</td>\n",
       "      <td>NaN</td>\n",
       "      <td>NaN</td>\n",
       "    </tr>\n",
       "    <tr>\n",
       "      <th>2023-03-20T00:00:04Z</th>\n",
       "      <td>NaN</td>\n",
       "      <td>NaN</td>\n",
       "      <td>1008.96</td>\n",
       "      <td>819.8</td>\n",
       "      <td>9.4</td>\n",
       "      <td>9.7</td>\n",
       "      <td>NaN</td>\n",
       "      <td>NaN</td>\n",
       "      <td>NaN</td>\n",
       "      <td>384.0</td>\n",
       "      <td>1807.0</td>\n",
       "      <td>68.0</td>\n",
       "    </tr>\n",
       "    <tr>\n",
       "      <th>2023-03-20T00:00:05Z</th>\n",
       "      <td>9.6</td>\n",
       "      <td>17.2</td>\n",
       "      <td>NaN</td>\n",
       "      <td>NaN</td>\n",
       "      <td>NaN</td>\n",
       "      <td>NaN</td>\n",
       "      <td>NaN</td>\n",
       "      <td>NaN</td>\n",
       "      <td>NaN</td>\n",
       "      <td>NaN</td>\n",
       "      <td>NaN</td>\n",
       "      <td>NaN</td>\n",
       "    </tr>\n",
       "    <tr>\n",
       "      <th>2023-03-20T00:01:02Z</th>\n",
       "      <td>NaN</td>\n",
       "      <td>NaN</td>\n",
       "      <td>NaN</td>\n",
       "      <td>NaN</td>\n",
       "      <td>NaN</td>\n",
       "      <td>NaN</td>\n",
       "      <td>NaN</td>\n",
       "      <td>232.7</td>\n",
       "      <td>NaN</td>\n",
       "      <td>NaN</td>\n",
       "      <td>NaN</td>\n",
       "      <td>NaN</td>\n",
       "    </tr>\n",
       "    <tr>\n",
       "      <th>2023-03-20T00:01:09Z</th>\n",
       "      <td>NaN</td>\n",
       "      <td>NaN</td>\n",
       "      <td>NaN</td>\n",
       "      <td>NaN</td>\n",
       "      <td>NaN</td>\n",
       "      <td>NaN</td>\n",
       "      <td>NaN</td>\n",
       "      <td>NaN</td>\n",
       "      <td>0.0</td>\n",
       "      <td>NaN</td>\n",
       "      <td>NaN</td>\n",
       "      <td>NaN</td>\n",
       "    </tr>\n",
       "  </tbody>\n",
       "</table>\n",
       "</div>"
      ],
      "text/plain": [
       "                      HTU21D_T  HTU21D_RH  BMP180_SLP  BMP180_SP  BMP180_T  \\\n",
       "Time                                                                         \n",
       "2023-03-20T00:00:01Z       NaN        NaN         NaN        NaN       NaN   \n",
       "2023-03-20T00:00:04Z       NaN        NaN     1008.96      819.8       9.4   \n",
       "2023-03-20T00:00:05Z       9.6       17.2         NaN        NaN       NaN   \n",
       "2023-03-20T00:01:02Z       NaN        NaN         NaN        NaN       NaN   \n",
       "2023-03-20T00:01:09Z       NaN        NaN         NaN        NaN       NaN   \n",
       "\n",
       "                      MCP9808  windspeed  winddirection  precipitation  \\\n",
       "Time                                                                     \n",
       "2023-03-20T00:00:01Z      NaN       7.92            NaN            NaN   \n",
       "2023-03-20T00:00:04Z      9.7        NaN            NaN            NaN   \n",
       "2023-03-20T00:00:05Z      NaN        NaN            NaN            NaN   \n",
       "2023-03-20T00:01:02Z      NaN        NaN          232.7            NaN   \n",
       "2023-03-20T00:01:09Z      NaN        NaN            NaN            0.0   \n",
       "\n",
       "                      SI1145_VIS  SI1145_IR  SI1145_UV  \n",
       "Time                                                    \n",
       "2023-03-20T00:00:01Z         NaN        NaN        NaN  \n",
       "2023-03-20T00:00:04Z       384.0     1807.0       68.0  \n",
       "2023-03-20T00:00:05Z         NaN        NaN        NaN  \n",
       "2023-03-20T00:01:02Z         NaN        NaN        NaN  \n",
       "2023-03-20T00:01:09Z         NaN        NaN        NaN  "
      ]
     },
     "execution_count": 7,
     "metadata": {},
     "output_type": "execute_result"
    }
   ],
   "source": [
    "df.head()"
   ]
  },
  {
   "cell_type": "markdown",
   "id": "3e5a17df-feae-457a-818c-99bbbd0b4869",
   "metadata": {},
   "source": [
    "As we can see there are a lot of empty values (`NaN`).  And a variety of data points we do not need -- we are only interested in the non-empty data and for the sake of this notebook the `HTU21D_T` column which includes temperature data in Celsius.\n",
    "\n",
    "We'll select just that column by it's name and also drop any empty values as they are not important to this analysis."
   ]
  },
  {
   "cell_type": "code",
   "execution_count": 8,
   "id": "bf313ff5-dd5e-4017-bd2c-57105adcda31",
   "metadata": {},
   "outputs": [
    {
     "data": {
      "text/plain": [
       "Time\n",
       "2023-03-20T00:00:05Z    9.6\n",
       "2023-03-20T00:01:11Z    9.5\n",
       "2023-03-20T00:02:04Z    9.7\n",
       "2023-03-20T00:03:04Z    9.8\n",
       "2023-03-20T00:04:07Z    9.8\n",
       "                       ... \n",
       "2023-03-29T23:55:04Z    4.7\n",
       "2023-03-29T23:56:08Z    4.7\n",
       "2023-03-29T23:57:05Z    4.7\n",
       "2023-03-29T23:58:05Z    4.7\n",
       "2023-03-29T23:59:06Z    4.7\n",
       "Name: HTU21D_T, Length: 14233, dtype: float64"
      ]
     },
     "execution_count": 8,
     "metadata": {},
     "output_type": "execute_result"
    }
   ],
   "source": [
    "df['HTU21D_T'].dropna()"
   ]
  },
  {
   "cell_type": "code",
   "execution_count": 9,
   "id": "7267b3bc-bf7d-47e0-a096-304d752b6d83",
   "metadata": {},
   "outputs": [],
   "source": [
    "temp = df['HTU21D_T'].dropna()"
   ]
  },
  {
   "cell_type": "markdown",
   "id": "f5d89bd1-f126-4884-98db-6ab4be6f6bd7",
   "metadata": {},
   "source": [
    "You will notice all the temperature data is in C.  We will create a little function to convert it to F.\n",
    "\n",
    "Remember the formula to make this conversion:\n",
    "\n",
    "$$\n",
    "F =  \\frac{9}{5} \\times C  + 32\n",
    "$$\n",
    "\n",
    "like this:"
   ]
  },
  {
   "cell_type": "code",
   "execution_count": 10,
   "id": "34c8aef4-2d25-47cb-95eb-c7def5e0c5a7",
   "metadata": {},
   "outputs": [],
   "source": [
    "def to_F(celsius):\n",
    "    return 9/5 * celsius + 32"
   ]
  },
  {
   "cell_type": "code",
   "execution_count": 11,
   "id": "2f263b07-f0e2-4162-8a73-f529297af489",
   "metadata": {},
   "outputs": [
    {
     "data": {
      "text/plain": [
       "32.0"
      ]
     },
     "execution_count": 11,
     "metadata": {},
     "output_type": "execute_result"
    }
   ],
   "source": [
    "# test\n",
    "to_F(0)"
   ]
  },
  {
   "cell_type": "markdown",
   "id": "4a617438-d6de-405b-a8c5-bb1733855a56",
   "metadata": {},
   "source": [
    "Now we will update the data ... the [`apply()` function](https://pandas.pydata.org/pandas-docs/stable/reference/api/pandas.DataFrame.apply.html) will take our function and apply it to the entire column (or DataFrame, if we want).  This makes is very simple to get the data in the shape we would like it."
   ]
  },
  {
   "cell_type": "code",
   "execution_count": 12,
   "id": "17f1e791-8695-4fa7-a859-f98661dedfea",
   "metadata": {},
   "outputs": [],
   "source": [
    "temp = temp.apply(to_F) # convert data to F"
   ]
  },
  {
   "cell_type": "markdown",
   "id": "1c52522a-43e8-4306-906b-479a8f2221fe",
   "metadata": {},
   "source": [
    "Plotting is simple, now that we have all the data we need."
   ]
  },
  {
   "cell_type": "code",
   "execution_count": 13,
   "id": "e4a70cf3-1b12-4fe7-9f25-4ec1ae01d85b",
   "metadata": {},
   "outputs": [
    {
     "data": {
      "text/plain": [
       "<AxesSubplot:title={'center':'NCAR Testbed 2\\nMar-20 to Mar-30 temperatures (F)'}, xlabel='Time'>"
      ]
     },
     "execution_count": 13,
     "metadata": {},
     "output_type": "execute_result"
    },
    {
     "data": {
      "image/png": "[encoded data removed]",
      "text/plain": [
       "<Figure size 640x480 with 1 Axes>"
      ]
     },
     "metadata": {},
     "output_type": "display_data"
    }
   ],
   "source": [
    "temp.plot(title=\"NCAR Testbed 2\\nMar-20 to Mar-30 temperatures (F)\", rot=45)"
   ]
  },
  {
   "cell_type": "markdown",
   "id": "7bf0218d-7416-467e-b119-9e36a37fc5d3",
   "metadata": {},
   "source": [
    "## What is the Average Temperature?"
   ]
  },
  {
   "cell_type": "code",
   "execution_count": 14,
   "id": "af046a22-718e-4a09-ad4e-9dcc5f621f40",
   "metadata": {},
   "outputs": [
    {
     "data": {
      "text/plain": [
       "34.356428019392105"
      ]
     },
     "execution_count": 14,
     "metadata": {},
     "output_type": "execute_result"
    }
   ],
   "source": [
    "temp.mean()"
   ]
  },
  {
   "cell_type": "markdown",
   "id": "1adb6c04-d45c-45cb-8a77-0a884be9082f",
   "metadata": {},
   "source": [
    "## What is the Highest and Lowest Temperatures?"
   ]
  },
  {
   "cell_type": "code",
   "execution_count": 15,
   "id": "03eedfe4-3f6b-4471-a1d0-83e446c86b77",
   "metadata": {},
   "outputs": [
    {
     "data": {
      "text/plain": [
       "(264.02000000000004, -427.0)"
      ]
     },
     "execution_count": 15,
     "metadata": {},
     "output_type": "execute_result"
    }
   ],
   "source": [
    "temp.max(), temp.min()"
   ]
  },
  {
   "cell_type": "markdown",
   "id": "b65fc0f1-45f0-49d1-95fa-fa5c655c4968",
   "metadata": {},
   "source": [
    "That's weird?  Looks like the sensor **went crazy one day**!\n",
    "\n",
    "Now you can study the Pandas documentation to learn how to clean the data and eliminate those outliers!\n",
    "\n",
    "$\\Xi$"
   ]
  },
  {
   "cell_type": "code",
   "execution_count": null,
   "id": "5943d097-8121-4f09-8fe2-058dea3b333c",
   "metadata": {},
   "outputs": [],
   "source": []
  }
 ],
 "metadata": {
  "kernelspec": {
   "display_name": "Python 3 (ipykernel)",
   "language": "python",
   "name": "python3"
  },
  "language_info": {
   "codemirror_mode": {
    "name": "ipython",
    "version": 3
   },
   "file_extension": ".py",
   "mimetype": "text/x-python",
   "name": "python",
   "nbconvert_exporter": "python",
   "pygments_lexer": "ipython3",
   "version": "3.8.11"
  }
 },
 "nbformat": 4,
 "nbformat_minor": 5
}
